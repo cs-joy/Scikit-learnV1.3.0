{
 "cells": [
  {
   "cell_type": "markdown",
   "id": "60e0dc3c-4ed9-4bfa-a16a-2d96030af867",
   "metadata": {},
   "source": [
    "### Machine learning: the problem setting"
   ]
  },
  {
   "cell_type": "code",
   "execution_count": 1,
   "id": "b6f4ce8b-d7fb-4275-8420-d06199932de5",
   "metadata": {},
   "outputs": [
    {
     "name": "stdout",
     "output_type": "stream",
     "text": [
      "Defaulting to user installation because normal site-packages is not writeable\n",
      "Collecting scikit-learn\n",
      "  Obtaining dependency information for scikit-learn from https://files.pythonhosted.org/packages/2d/30/3afb8bcb785653254eb646ff2680ec4d637b40b06f4b046aca17b5e086b0/scikit_learn-1.3.0-cp39-cp39-win_amd64.whl.metadata\n",
      "  Downloading scikit_learn-1.3.0-cp39-cp39-win_amd64.whl.metadata (11 kB)\n",
      "Requirement already satisfied: numpy>=1.17.3 in c:\\users\\csjoy\\appdata\\roaming\\python\\python39\\site-packages (from scikit-learn) (1.24.3)\n",
      "Requirement already satisfied: scipy>=1.5.0 in c:\\users\\csjoy\\appdata\\roaming\\python\\python39\\site-packages (from scikit-learn) (1.11.2)\n",
      "Collecting joblib>=1.1.1 (from scikit-learn)\n",
      "  Obtaining dependency information for joblib>=1.1.1 from https://files.pythonhosted.org/packages/10/40/d551139c85db202f1f384ba8bcf96aca2f329440a844f924c8a0040b6d02/joblib-1.3.2-py3-none-any.whl.metadata\n",
      "  Downloading joblib-1.3.2-py3-none-any.whl.metadata (5.4 kB)\n",
      "Collecting threadpoolctl>=2.0.0 (from scikit-learn)\n",
      "  Obtaining dependency information for threadpoolctl>=2.0.0 from https://files.pythonhosted.org/packages/81/12/fd4dea011af9d69e1cad05c75f3f7202cdcbeac9b712eea58ca779a72865/threadpoolctl-3.2.0-py3-none-any.whl.metadata\n",
      "  Downloading threadpoolctl-3.2.0-py3-none-any.whl.metadata (10.0 kB)\n",
      "Downloading scikit_learn-1.3.0-cp39-cp39-win_amd64.whl (9.3 MB)\n",
      "   ---------------------------------------- 0.0/9.3 MB ? eta -:--:--\n",
      "   ---------------------------------------- 0.0/9.3 MB 1.3 MB/s eta 0:00:08\n",
      "   ---------------------------------------- 0.1/9.3 MB 1.3 MB/s eta 0:00:08\n",
      "    --------------------------------------- 0.2/9.3 MB 1.1 MB/s eta 0:00:08\n",
      "    --------------------------------------- 0.2/9.3 MB 1.2 MB/s eta 0:00:08\n",
      "   - -------------------------------------- 0.3/9.3 MB 1.2 MB/s eta 0:00:08\n",
      "   - -------------------------------------- 0.3/9.3 MB 1.2 MB/s eta 0:00:08\n",
      "   - -------------------------------------- 0.4/9.3 MB 1.1 MB/s eta 0:00:09\n",
      "   - -------------------------------------- 0.4/9.3 MB 1.1 MB/s eta 0:00:08\n",
      "   -- ------------------------------------- 0.5/9.3 MB 1.1 MB/s eta 0:00:08\n",
      "   -- ------------------------------------- 0.6/9.3 MB 1.2 MB/s eta 0:00:08\n",
      "   -- ------------------------------------- 0.6/9.3 MB 1.2 MB/s eta 0:00:08\n",
      "   -- ------------------------------------- 0.7/9.3 MB 1.1 MB/s eta 0:00:08\n",
      "   --- ------------------------------------ 0.7/9.3 MB 1.2 MB/s eta 0:00:08\n",
      "   --- ------------------------------------ 0.8/9.3 MB 1.2 MB/s eta 0:00:08\n",
      "   --- ------------------------------------ 0.9/9.3 MB 1.2 MB/s eta 0:00:08\n",
      "   --- ------------------------------------ 0.9/9.3 MB 1.2 MB/s eta 0:00:08\n",
      "   ---- ----------------------------------- 1.0/9.3 MB 1.2 MB/s eta 0:00:07\n",
      "   ---- ----------------------------------- 1.1/9.3 MB 1.2 MB/s eta 0:00:07\n",
      "   ---- ----------------------------------- 1.1/9.3 MB 1.2 MB/s eta 0:00:07\n",
      "   ----- ---------------------------------- 1.2/9.3 MB 1.2 MB/s eta 0:00:07\n",
      "   ----- ---------------------------------- 1.3/9.3 MB 1.2 MB/s eta 0:00:07\n",
      "   ----- ---------------------------------- 1.3/9.3 MB 1.2 MB/s eta 0:00:07\n",
      "   ------ --------------------------------- 1.4/9.3 MB 1.2 MB/s eta 0:00:07\n",
      "   ------ --------------------------------- 1.5/9.3 MB 1.2 MB/s eta 0:00:07\n",
      "   ------ --------------------------------- 1.5/9.3 MB 1.3 MB/s eta 0:00:07\n",
      "   ------ --------------------------------- 1.6/9.3 MB 1.3 MB/s eta 0:00:07\n",
      "   ------- -------------------------------- 1.7/9.3 MB 1.3 MB/s eta 0:00:07\n",
      "   ------- -------------------------------- 1.8/9.3 MB 1.3 MB/s eta 0:00:06\n",
      "   ------- -------------------------------- 1.8/9.3 MB 1.3 MB/s eta 0:00:06\n",
      "   -------- ------------------------------- 1.9/9.3 MB 1.3 MB/s eta 0:00:06\n",
      "   -------- ------------------------------- 2.0/9.3 MB 1.3 MB/s eta 0:00:06\n",
      "   -------- ------------------------------- 2.0/9.3 MB 1.3 MB/s eta 0:00:06\n",
      "   --------- ------------------------------ 2.1/9.3 MB 1.3 MB/s eta 0:00:06\n",
      "   --------- ------------------------------ 2.2/9.3 MB 1.3 MB/s eta 0:00:06\n",
      "   --------- ------------------------------ 2.3/9.3 MB 1.3 MB/s eta 0:00:06\n",
      "   ---------- ----------------------------- 2.3/9.3 MB 1.3 MB/s eta 0:00:06\n",
      "   ---------- ----------------------------- 2.4/9.3 MB 1.3 MB/s eta 0:00:06\n",
      "   ---------- ----------------------------- 2.5/9.3 MB 1.3 MB/s eta 0:00:06\n",
      "   ---------- ----------------------------- 2.6/9.3 MB 1.3 MB/s eta 0:00:06\n",
      "   ----------- ---------------------------- 2.7/9.3 MB 1.3 MB/s eta 0:00:05\n",
      "   ----------- ---------------------------- 2.7/9.3 MB 1.3 MB/s eta 0:00:05\n",
      "   ------------ --------------------------- 2.8/9.3 MB 1.3 MB/s eta 0:00:05\n",
      "   ------------ --------------------------- 2.9/9.3 MB 1.3 MB/s eta 0:00:05\n",
      "   ------------ --------------------------- 3.0/9.3 MB 1.4 MB/s eta 0:00:05\n",
      "   ------------- -------------------------- 3.0/9.3 MB 1.4 MB/s eta 0:00:05\n",
      "   ------------- -------------------------- 3.1/9.3 MB 1.4 MB/s eta 0:00:05\n",
      "   ------------- -------------------------- 3.2/9.3 MB 1.4 MB/s eta 0:00:05\n",
      "   -------------- ------------------------- 3.3/9.3 MB 1.4 MB/s eta 0:00:05\n",
      "   -------------- ------------------------- 3.4/9.3 MB 1.4 MB/s eta 0:00:05\n",
      "   -------------- ------------------------- 3.5/9.3 MB 1.4 MB/s eta 0:00:05\n",
      "   --------------- ------------------------ 3.5/9.3 MB 1.4 MB/s eta 0:00:05\n",
      "   --------------- ------------------------ 3.6/9.3 MB 1.4 MB/s eta 0:00:05\n",
      "   ---------------- ----------------------- 3.7/9.3 MB 1.4 MB/s eta 0:00:04\n",
      "   ---------------- ----------------------- 3.8/9.3 MB 1.4 MB/s eta 0:00:04\n",
      "   ---------------- ----------------------- 3.9/9.3 MB 1.4 MB/s eta 0:00:04\n",
      "   ----------------- ---------------------- 4.0/9.3 MB 1.4 MB/s eta 0:00:04\n",
      "   ----------------- ---------------------- 4.1/9.3 MB 1.4 MB/s eta 0:00:04\n",
      "   ------------------ --------------------- 4.2/9.3 MB 1.4 MB/s eta 0:00:04\n",
      "   ------------------ --------------------- 4.3/9.3 MB 1.4 MB/s eta 0:00:04\n",
      "   ------------------ --------------------- 4.4/9.3 MB 1.5 MB/s eta 0:00:04\n",
      "   ------------------- -------------------- 4.5/9.3 MB 1.5 MB/s eta 0:00:04\n",
      "   ------------------- -------------------- 4.6/9.3 MB 1.5 MB/s eta 0:00:04\n",
      "   -------------------- ------------------- 4.7/9.3 MB 1.5 MB/s eta 0:00:04\n",
      "   -------------------- ------------------- 4.8/9.3 MB 1.5 MB/s eta 0:00:04\n",
      "   -------------------- ------------------- 4.9/9.3 MB 1.5 MB/s eta 0:00:04\n",
      "   --------------------- ------------------ 5.0/9.3 MB 1.5 MB/s eta 0:00:03\n",
      "   --------------------- ------------------ 5.1/9.3 MB 1.5 MB/s eta 0:00:03\n",
      "   ---------------------- ----------------- 5.2/9.3 MB 1.5 MB/s eta 0:00:03\n",
      "   ---------------------- ----------------- 5.3/9.3 MB 1.5 MB/s eta 0:00:03\n",
      "   ----------------------- ---------------- 5.4/9.3 MB 1.5 MB/s eta 0:00:03\n",
      "   ----------------------- ---------------- 5.5/9.3 MB 1.5 MB/s eta 0:00:03\n",
      "   ----------------------- ---------------- 5.6/9.3 MB 1.5 MB/s eta 0:00:03\n",
      "   ------------------------ --------------- 5.7/9.3 MB 1.5 MB/s eta 0:00:03\n",
      "   ------------------------ --------------- 5.8/9.3 MB 1.6 MB/s eta 0:00:03\n",
      "   ------------------------- -------------- 5.9/9.3 MB 1.6 MB/s eta 0:00:03\n",
      "   ------------------------- -------------- 6.0/9.3 MB 1.6 MB/s eta 0:00:03\n",
      "   -------------------------- ------------- 6.1/9.3 MB 1.6 MB/s eta 0:00:03\n",
      "   -------------------------- ------------- 6.2/9.3 MB 1.6 MB/s eta 0:00:02\n",
      "   -------------------------- ------------- 6.3/9.3 MB 1.6 MB/s eta 0:00:02\n",
      "   --------------------------- ------------ 6.4/9.3 MB 1.6 MB/s eta 0:00:02\n",
      "   --------------------------- ------------ 6.5/9.3 MB 1.6 MB/s eta 0:00:02\n",
      "   ---------------------------- ----------- 6.7/9.3 MB 1.6 MB/s eta 0:00:02\n",
      "   ----------------------------- ---------- 6.8/9.3 MB 1.6 MB/s eta 0:00:02\n",
      "   ----------------------------- ---------- 6.9/9.3 MB 1.6 MB/s eta 0:00:02\n",
      "   ----------------------------- ---------- 7.0/9.3 MB 1.6 MB/s eta 0:00:02\n",
      "   ------------------------------ --------- 7.1/9.3 MB 1.6 MB/s eta 0:00:02\n",
      "   ------------------------------ --------- 7.2/9.3 MB 1.6 MB/s eta 0:00:02\n",
      "   ------------------------------- -------- 7.3/9.3 MB 1.6 MB/s eta 0:00:02\n",
      "   ------------------------------- -------- 7.4/9.3 MB 1.6 MB/s eta 0:00:02\n",
      "   -------------------------------- ------- 7.5/9.3 MB 1.7 MB/s eta 0:00:02\n",
      "   -------------------------------- ------- 7.6/9.3 MB 1.7 MB/s eta 0:00:02\n",
      "   --------------------------------- ------ 7.7/9.3 MB 1.7 MB/s eta 0:00:01\n",
      "   --------------------------------- ------ 7.8/9.3 MB 1.7 MB/s eta 0:00:01\n",
      "   ---------------------------------- ----- 7.9/9.3 MB 1.7 MB/s eta 0:00:01\n",
      "   ---------------------------------- ----- 8.0/9.3 MB 1.7 MB/s eta 0:00:01\n",
      "   ---------------------------------- ----- 8.1/9.3 MB 1.7 MB/s eta 0:00:01\n",
      "   ----------------------------------- ---- 8.3/9.3 MB 1.7 MB/s eta 0:00:01\n",
      "   ----------------------------------- ---- 8.4/9.3 MB 1.7 MB/s eta 0:00:01\n",
      "   ------------------------------------ --- 8.5/9.3 MB 1.7 MB/s eta 0:00:01\n",
      "   ------------------------------------ --- 8.6/9.3 MB 1.7 MB/s eta 0:00:01\n",
      "   ------------------------------------- -- 8.7/9.3 MB 1.7 MB/s eta 0:00:01\n",
      "   ------------------------------------- -- 8.8/9.3 MB 1.7 MB/s eta 0:00:01\n",
      "   -------------------------------------- - 8.9/9.3 MB 1.7 MB/s eta 0:00:01\n",
      "   -------------------------------------- - 9.0/9.3 MB 1.7 MB/s eta 0:00:01\n",
      "   ---------------------------------------  9.2/9.3 MB 1.8 MB/s eta 0:00:01\n",
      "   ---------------------------------------  9.3/9.3 MB 1.8 MB/s eta 0:00:01\n",
      "   ---------------------------------------  9.3/9.3 MB 1.8 MB/s eta 0:00:01\n",
      "   ---------------------------------------- 9.3/9.3 MB 1.7 MB/s eta 0:00:00\n",
      "Downloading joblib-1.3.2-py3-none-any.whl (302 kB)\n",
      "   ---------------------------------------- 0.0/302.2 kB ? eta -:--:--\n",
      "   -------------- ------------------------- 112.6/302.2 kB 3.3 MB/s eta 0:00:01\n",
      "   ------------------------------------ --- 276.5/302.2 kB 2.9 MB/s eta 0:00:01\n",
      "   ---------------------------------------- 302.2/302.2 kB 2.3 MB/s eta 0:00:00\n",
      "Downloading threadpoolctl-3.2.0-py3-none-any.whl (15 kB)\n",
      "Installing collected packages: threadpoolctl, joblib, scikit-learn\n",
      "Successfully installed joblib-1.3.2 scikit-learn-1.3.0 threadpoolctl-3.2.0\n",
      "Note: you may need to restart the kernel to use updated packages.\n"
     ]
    }
   ],
   "source": [
    "pip install scikit-learn"
   ]
  },
  {
   "cell_type": "markdown",
   "id": "9360a1c0-4687-48dc-91de-fff39b28668b",
   "metadata": {},
   "source": [
    "#### fitting and predicting: estimator basics"
   ]
  },
  {
   "cell_type": "code",
   "execution_count": 3,
   "id": "671b55b4-7196-4394-93b8-d4cad4fb8ad6",
   "metadata": {},
   "outputs": [],
   "source": [
    "from sklearn.ensemble import RandomForestClassifier"
   ]
  },
  {
   "cell_type": "code",
   "execution_count": 4,
   "id": "2138fd09-5299-4c99-8b59-abb28c3cc9c2",
   "metadata": {},
   "outputs": [],
   "source": [
    "clf = RandomForestClassifier(random_state=0)"
   ]
  },
  {
   "cell_type": "code",
   "execution_count": 6,
   "id": "98458096-af0f-4080-a829-ba2068061013",
   "metadata": {},
   "outputs": [],
   "source": [
    "# 2 samples and 3 features\n",
    "X = [\n",
    "    [1,2,3],\n",
    "    [11,12,13]\n",
    "]"
   ]
  },
  {
   "cell_type": "code",
   "execution_count": 7,
   "id": "50b91697-a6e4-4278-a5dc-fea49f59c250",
   "metadata": {},
   "outputs": [],
   "source": [
    "y = [0, 1] # classes of each sample"
   ]
  },
  {
   "cell_type": "code",
   "execution_count": 8,
   "id": "9c7d140d-1f91-4717-91fa-1010d7886ac1",
   "metadata": {},
   "outputs": [
    {
     "data": {
      "text/html": [
       "<style>#sk-container-id-1 {color: black;}#sk-container-id-1 pre{padding: 0;}#sk-container-id-1 div.sk-toggleable {background-color: white;}#sk-container-id-1 label.sk-toggleable__label {cursor: pointer;display: block;width: 100%;margin-bottom: 0;padding: 0.3em;box-sizing: border-box;text-align: center;}#sk-container-id-1 label.sk-toggleable__label-arrow:before {content: \"▸\";float: left;margin-right: 0.25em;color: #696969;}#sk-container-id-1 label.sk-toggleable__label-arrow:hover:before {color: black;}#sk-container-id-1 div.sk-estimator:hover label.sk-toggleable__label-arrow:before {color: black;}#sk-container-id-1 div.sk-toggleable__content {max-height: 0;max-width: 0;overflow: hidden;text-align: left;background-color: #f0f8ff;}#sk-container-id-1 div.sk-toggleable__content pre {margin: 0.2em;color: black;border-radius: 0.25em;background-color: #f0f8ff;}#sk-container-id-1 input.sk-toggleable__control:checked~div.sk-toggleable__content {max-height: 200px;max-width: 100%;overflow: auto;}#sk-container-id-1 input.sk-toggleable__control:checked~label.sk-toggleable__label-arrow:before {content: \"▾\";}#sk-container-id-1 div.sk-estimator input.sk-toggleable__control:checked~label.sk-toggleable__label {background-color: #d4ebff;}#sk-container-id-1 div.sk-label input.sk-toggleable__control:checked~label.sk-toggleable__label {background-color: #d4ebff;}#sk-container-id-1 input.sk-hidden--visually {border: 0;clip: rect(1px 1px 1px 1px);clip: rect(1px, 1px, 1px, 1px);height: 1px;margin: -1px;overflow: hidden;padding: 0;position: absolute;width: 1px;}#sk-container-id-1 div.sk-estimator {font-family: monospace;background-color: #f0f8ff;border: 1px dotted black;border-radius: 0.25em;box-sizing: border-box;margin-bottom: 0.5em;}#sk-container-id-1 div.sk-estimator:hover {background-color: #d4ebff;}#sk-container-id-1 div.sk-parallel-item::after {content: \"\";width: 100%;border-bottom: 1px solid gray;flex-grow: 1;}#sk-container-id-1 div.sk-label:hover label.sk-toggleable__label {background-color: #d4ebff;}#sk-container-id-1 div.sk-serial::before {content: \"\";position: absolute;border-left: 1px solid gray;box-sizing: border-box;top: 0;bottom: 0;left: 50%;z-index: 0;}#sk-container-id-1 div.sk-serial {display: flex;flex-direction: column;align-items: center;background-color: white;padding-right: 0.2em;padding-left: 0.2em;position: relative;}#sk-container-id-1 div.sk-item {position: relative;z-index: 1;}#sk-container-id-1 div.sk-parallel {display: flex;align-items: stretch;justify-content: center;background-color: white;position: relative;}#sk-container-id-1 div.sk-item::before, #sk-container-id-1 div.sk-parallel-item::before {content: \"\";position: absolute;border-left: 1px solid gray;box-sizing: border-box;top: 0;bottom: 0;left: 50%;z-index: -1;}#sk-container-id-1 div.sk-parallel-item {display: flex;flex-direction: column;z-index: 1;position: relative;background-color: white;}#sk-container-id-1 div.sk-parallel-item:first-child::after {align-self: flex-end;width: 50%;}#sk-container-id-1 div.sk-parallel-item:last-child::after {align-self: flex-start;width: 50%;}#sk-container-id-1 div.sk-parallel-item:only-child::after {width: 0;}#sk-container-id-1 div.sk-dashed-wrapped {border: 1px dashed gray;margin: 0 0.4em 0.5em 0.4em;box-sizing: border-box;padding-bottom: 0.4em;background-color: white;}#sk-container-id-1 div.sk-label label {font-family: monospace;font-weight: bold;display: inline-block;line-height: 1.2em;}#sk-container-id-1 div.sk-label-container {text-align: center;}#sk-container-id-1 div.sk-container {/* jupyter's `normalize.less` sets `[hidden] { display: none; }` but bootstrap.min.css set `[hidden] { display: none !important; }` so we also need the `!important` here to be able to override the default hidden behavior on the sphinx rendered scikit-learn.org. See: https://github.com/scikit-learn/scikit-learn/issues/21755 */display: inline-block !important;position: relative;}#sk-container-id-1 div.sk-text-repr-fallback {display: none;}</style><div id=\"sk-container-id-1\" class=\"sk-top-container\"><div class=\"sk-text-repr-fallback\"><pre>RandomForestClassifier(random_state=0)</pre><b>In a Jupyter environment, please rerun this cell to show the HTML representation or trust the notebook. <br />On GitHub, the HTML representation is unable to render, please try loading this page with nbviewer.org.</b></div><div class=\"sk-container\" hidden><div class=\"sk-item\"><div class=\"sk-estimator sk-toggleable\"><input class=\"sk-toggleable__control sk-hidden--visually\" id=\"sk-estimator-id-1\" type=\"checkbox\" checked><label for=\"sk-estimator-id-1\" class=\"sk-toggleable__label sk-toggleable__label-arrow\">RandomForestClassifier</label><div class=\"sk-toggleable__content\"><pre>RandomForestClassifier(random_state=0)</pre></div></div></div></div></div>"
      ],
      "text/plain": [
       "RandomForestClassifier(random_state=0)"
      ]
     },
     "execution_count": 8,
     "metadata": {},
     "output_type": "execute_result"
    }
   ],
   "source": [
    "clf.fit(X, y)"
   ]
  },
  {
   "cell_type": "code",
   "execution_count": 9,
   "id": "49ed5198-6a8a-4d09-a9f6-36c5b32eaa84",
   "metadata": {},
   "outputs": [
    {
     "data": {
      "text/plain": [
       "array([0, 1])"
      ]
     },
     "execution_count": 9,
     "metadata": {},
     "output_type": "execute_result"
    }
   ],
   "source": [
    "clf.predict(X) # predict classes of the training data"
   ]
  },
  {
   "cell_type": "code",
   "execution_count": null,
   "id": "fc369cb6-4948-4374-922e-1f447beb75bf",
   "metadata": {},
   "outputs": [],
   "source": [
    "newData = []"
   ]
  }
 ],
 "metadata": {
  "kernelspec": {
   "display_name": "Python 3 (ipykernel)",
   "language": "python",
   "name": "python3"
  },
  "language_info": {
   "codemirror_mode": {
    "name": "ipython",
    "version": 3
   },
   "file_extension": ".py",
   "mimetype": "text/x-python",
   "name": "python",
   "nbconvert_exporter": "python",
   "pygments_lexer": "ipython3",
   "version": "3.9.0"
  }
 },
 "nbformat": 4,
 "nbformat_minor": 5
}
